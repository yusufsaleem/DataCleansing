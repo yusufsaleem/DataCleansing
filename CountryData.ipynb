{
 "cells": [
  {
   "cell_type": "code",
   "execution_count": 74,
   "metadata": {},
   "outputs": [
    {
     "name": "stdout",
     "output_type": "stream",
     "text": [
      "There are 100 messages\n",
      "{u'message': u'scelerisque dui. Suspendisse ac metus vitae velit egestas lacinia. Sed congue, elit sed consequat auctor, nunc nulla vulputate dui, nec tempus mauris erat eget ipsum. Suspendisse sagittis. Nullam vitae diam.', u'recipient': 33, u'sender': 25}\n",
      "There are 100 users\n"
     ]
    },
    {
     "data": {
      "text/plain": [
       "{u'id': 1, u'location': u'Ireland', u'name': u'Ezekiel R. Frederick'}"
      ]
     },
     "execution_count": 74,
     "metadata": {},
     "output_type": "execute_result"
    }
   ],
   "source": [
    "import json\n",
    "import requests\n",
    "response = requests.get(\"http://www.jnichols.org/messages.json\")\n",
    "messages = json.loads(response.text)\n",
    "responseusers = requests.get(\"http://www.jnichols.org/users.json\")\n",
    "print \"There are \" + str(len(messages)) + \" messages\"\n",
    "print messages [0]\n",
    "users = json.loads(responseusers.text)\n",
    "print \"There are \" + str(len(users)) + \" users\"\n",
    "users[0]\n"
   ]
  },
  {
   "cell_type": "code",
   "execution_count": 75,
   "metadata": {},
   "outputs": [
    {
     "name": "stdout",
     "output_type": "stream",
     "text": [
      "There are 15 users from Ireland \n"
     ]
    }
   ],
   "source": [
    "counter = 0\n",
    "for x in users:\n",
    "    if x[\"location\"] == \"Ireland\":\n",
    "        counter +=1\n",
    "print \"There are \" + str(counter) + \" users from Ireland \""
   ]
  },
  {
   "cell_type": "code",
   "execution_count": 76,
   "metadata": {},
   "outputs": [
    {
     "name": "stdout",
     "output_type": "stream",
     "text": [
      "5\n"
     ]
    }
   ],
   "source": [
    "countries = []\n",
    "for x in users:\n",
    "    if x[\"location\"] not in countries:\n",
    "        countries.append(x[\"location\"])\n",
    "print len(countries)"
   ]
  },
  {
   "cell_type": "code",
   "execution_count": 77,
   "metadata": {
    "scrolled": true
   },
   "outputs": [
    {
     "name": "stdout",
     "output_type": "stream",
     "text": [
      "{u'Canada': [3, 7, 12, 13, 17, 18, 23, 24, 26, 31, 38, 40, 41, 43, 44, 46, 50, 55, 56, 57, 63, 64, 66, 67, 78, 88, 95], u'United States': [6, 14, 19, 28, 34, 35, 36, 48, 51, 53, 58, 60, 61, 65, 69, 70, 71, 74, 76, 91, 98], u'Italy': [4, 10, 11, 15, 21, 22, 27, 30, 32, 37, 42, 45, 47, 49, 54, 59, 79, 82, 84, 85, 87, 93], u'Ireland': [1, 5, 9, 16, 25, 29, 52, 72, 77, 80, 81, 89, 96, 97, 100], u'France': [2, 8, 20, 33, 39, 62, 68, 73, 75, 83, 86, 90, 92, 94, 99]}\n"
     ]
    }
   ],
   "source": [
    "countryMembership = {}\n",
    "for x in users:\n",
    "    if x[\"location\"] in countryMembership.keys():\n",
    "        countryMembership[x[\"location\"]].append(x[\"id\"])\n",
    "    else:\n",
    "        countryMembership[x[\"location\"]] = [x[\"id\"]]\n",
    "print countryMembership"
   ]
  },
  {
   "cell_type": "code",
   "execution_count": 97,
   "metadata": {},
   "outputs": [
    {
     "name": "stdout",
     "output_type": "stream",
     "text": [
      "[(u'Canada', [3, 7, 12, 13, 17, 18, 23, 24, 26, 31, 38, 40, 41, 43, 44, 46, 50, 55, 56, 57, 63, 64, 66, 67, 78, 88, 95]), (u'Italy', [4, 10, 11, 15, 21, 22, 27, 30, 32, 37, 42, 45, 47, 49, 54, 59, 79, 82, 84, 85, 87, 93]), (u'United States', [6, 14, 19, 28, 34, 35, 36, 48, 51, 53, 58, 60, 61, 65, 69, 70, 71, 74, 76, 91, 98]), (u'Ireland', [1, 5, 9, 16, 25, 29, 52, 72, 77, 80, 81, 89, 96, 97, 100]), (u'France', [2, 8, 20, 33, 39, 62, 68, 73, 75, 83, 86, 90, 92, 94, 99])]\n",
      "[0, 1, 2, 3, 4]\n",
      "[27, 22, 21, 15, 15]\n",
      "[u'Canada', u'Italy', u'United States', u'Ireland', u'France']\n"
     ]
    }
   ],
   "source": [
    "countryList = countryMembership.items()\n",
    "countryList.sort(key=lambda x:len(x[1]), reverse = True)\n",
    "print countryList\n",
    "\n",
    "posList = []\n",
    "countrynameList = []\n",
    "idList = []\n",
    "\n",
    "for x in range(len(countryList)):\n",
    "    posList.insert(x, x)\n",
    "    countrynameList.insert(x, countryList[x][0])\n",
    "    idList.insert(x, len(countryList[x][1]))\n",
    "\n",
    "print posList\n",
    "print idList\n",
    "print countrynameList\n",
    "    \n"
   ]
  },
  {
   "cell_type": "code",
   "execution_count": 99,
   "metadata": {},
   "outputs": [
    {
     "data": {
      "text/plain": [
       "[]"
      ]
     },
     "execution_count": 99,
     "metadata": {},
     "output_type": "execute_result"
    },
    {
     "data": {
      "image/png": "[encoded data removed]",
      "text/plain": [
       "<Figure size 432x288 with 1 Axes>"
      ]
     },
     "metadata": {},
     "output_type": "display_data"
    }
   ],
   "source": [
    "import matplotlib.pyplot as plt\n",
    "plt.bar(posList, idList)\n",
    "plt.xticks(posList, countrynameList)\n",
    "plt.ylabel(\"Users in each country\")\n",
    "plt.plot()"
   ]
  },
  {
   "cell_type": "code",
   "execution_count": 79,
   "metadata": {},
   "outputs": [
    {
     "name": "stdout",
     "output_type": "stream",
     "text": [
      "Canada\n"
     ]
    }
   ],
   "source": [
    "def getCountry(ID):\n",
    "    for x in countryMembership.items():\n",
    "        if ID in x[1]:\n",
    "            return x[0]\n",
    "print getCountry(23)\n",
    "    "
   ]
  },
  {
   "cell_type": "code",
   "execution_count": 80,
   "metadata": {},
   "outputs": [
    {
     "name": "stdout",
     "output_type": "stream",
     "text": [
      "16\n",
      "13\n"
     ]
    }
   ],
   "source": [
    "messagesReceivedCanada = 0\n",
    "messagesSentCanada = 0\n",
    "\n",
    "for x in messages:\n",
    "        if getCountry(x[\"sender\"]) == \"Canada\":\n",
    "            messagesSentCanada +=1\n",
    "        if getCountry(x[\"recipient\"]) == \"Canada\":\n",
    "                messagesReceivedCanada +=1\n",
    "print messagesReceivedCanada\n",
    "print messagesSentCanada\n",
    "                        "
   ]
  },
  {
   "cell_type": "code",
   "execution_count": 82,
   "metadata": {},
   "outputs": [
    {
     "name": "stdout",
     "output_type": "stream",
     "text": [
      "{u'United States': [39, 23], u'Canada': [13, 16], u'Italy': [19, 30], u'Ireland': [20, 19], u'France': [9, 12]}\n"
     ]
    }
   ],
   "source": [
    "countryMessages = {}\n",
    "for x in messages:\n",
    "    if getCountry(x[\"sender\"]) in countryMessages.keys():\n",
    "        countryMessages[getCountry(x[\"sender\"])][0]+=1 \n",
    "    else:\n",
    "        countryMessages[getCountry(x[\"sender\"])]=[1,0]\n",
    "    if getCountry(x[\"recipient\"]) in countryMessages.keys():\n",
    "        countryMessages[getCountry(x[\"recipient\"])][1]+=1\n",
    "    else:\n",
    "        countryMessages[getCountry(x[\"recipient\"])]=[0,1]\n",
    "print countryMessages\n",
    "    "
   ]
  },
  {
   "cell_type": "code",
   "execution_count": 88,
   "metadata": {},
   "outputs": [
    {
     "name": "stdout",
     "output_type": "stream",
     "text": [
      "[[u'United States', 16], [u'Ireland', 1], [u'Canada', -3], [u'France', -3], [u'Italy', -11]]\n"
     ]
    }
   ],
   "source": [
    "List = []\n",
    "netMessages = 0\n",
    "\n",
    "for x in range(len(countryMessages.items())):\n",
    "    List.insert(x,[countryMessages.items()[x][0], countryMessages.items()[x][1][0]-countryMessages.items()[x][1][1]])\n",
    "List.sort(key=lambda x: x[1], reverse=True)\n",
    "print List"
   ]
  },
  {
   "cell_type": "code",
   "execution_count": 92,
   "metadata": {},
   "outputs": [
    {
     "data": {
      "text/plain": [
       "[]"
      ]
     },
     "execution_count": 92,
     "metadata": {},
     "output_type": "execute_result"
    },
    {
     "data": {
      "image/png": "[encoded data removed]",
      "text/plain": [
       "<Figure size 432x288 with 1 Axes>"
      ]
     },
     "metadata": {},
     "output_type": "display_data"
    }
   ],
   "source": [
    "positionList = []\n",
    "countryList = []\n",
    "tallyList = []\n",
    "\n",
    "for x in range(len(List)):\n",
    "    positionList.insert(x,x)\n",
    "    tallyList.insert(x, List[x][1])\n",
    "    countryList.insert(x, str(List[x][0]))\n",
    "\n",
    "import matplotlib.pyplot as plt\n",
    "plt.bar(positionList, tallyList)\n",
    "plt.xticks(positionList, countryList)\n",
    "plt.ylabel(\"Net Messages\")\n",
    "plt.plot()\n"
   ]
  },
  {
   "cell_type": "code",
   "execution_count": 95,
   "metadata": {},
   "outputs": [
    {
     "data": {
      "text/plain": [
       "[]"
      ]
     },
     "execution_count": 95,
     "metadata": {},
     "output_type": "execute_result"
    },
    {
     "data": {
      "image/png": "[encoded data removed]",
      "text/plain": [
       "<Figure size 432x288 with 1 Axes>"
      ]
     },
     "metadata": {},
     "output_type": "display_data"
    }
   ],
   "source": [
    "spots = []\n",
    "sendVals = []\n",
    "recVals = []\n",
    "labels = []\n",
    "\n",
    "for x in range(len(countryMessages.items())):\n",
    "    spots.insert(x,x)\n",
    "    sendVals.insert(x, countryMessages.items()[x][1][0])\n",
    "    recVals.insert(x, (countryMessages.items()[x][1][1]))\n",
    "    labels.insert(x,countryMessages.items()[x][0])\n",
    "    \n",
    "\n",
    "plt.bar([p-.25 for p in spots], sendVals, width=.25, color='b')\n",
    "plt.bar([p for p in spots], recVals, width=.25, color='r')\n",
    "plt.xticks([p-.125 for p in spots], labels)\n",
    "plt.ylabel(\"Sent vs Received\")\n",
    "plt.legend(['sent', 'received'], loc='upper right')\n",
    "plt.plot()"
   ]
  },
  {
   "cell_type": "code",
   "execution_count": null,
   "metadata": {},
   "outputs": [],
   "source": []
  }
 ],
 "metadata": {
  "kernelspec": {
   "display_name": "Python 3",
   "language": "python",
   "name": "python3"
  },
  "language_info": {
   "codemirror_mode": {
    "name": "ipython",
    "version": 3
   },
   "file_extension": ".py",
   "mimetype": "text/x-python",
   "name": "python",
   "nbconvert_exporter": "python",
   "pygments_lexer": "ipython3",
   "version": "3.7.1"
  }
 },
 "nbformat": 4,
 "nbformat_minor": 2
}
